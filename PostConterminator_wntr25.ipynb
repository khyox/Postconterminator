{
  "cells": [
    {
      "cell_type": "markdown",
      "id": "0",
      "metadata": {
        "tags": []
      },
      "source": [
        "# PostConterminator\n",
        "\n",
        "**Version**: 0.8-pub (Jan 2025)\n",
        "\n",
        "**Abstract**: Analyze Conterminator output\n",
        "\n",
        "**Environment**: Jupyter/Jupyterhub "
      ]
    },
    {
      "cell_type": "markdown",
      "id": "1",
      "metadata": {
        "tags": []
      },
      "source": [
        "## Initialization\n",
        "### Dependencies"
      ]
    },
    {
      "cell_type": "code",
      "execution_count": null,
      "id": "2",
      "metadata": {
        "tags": []
      },
      "outputs": [],
      "source": [
        "import csv\n",
        "from itertools import combinations\n",
        "from math import log10, ceil\n",
        "import os\n",
        "from pathlib import Path, PosixPath\n",
        "import pwd\n",
        "import sys\n",
        "import time\n",
        "from typing import Set, List, Union, Any, Dict, Tuple, Iterable, NewType, Optional, NamedTuple"
      ]
    },
    {
      "cell_type": "code",
      "execution_count": null,
      "id": "3",
      "metadata": {
        "tags": []
      },
      "outputs": [],
      "source": [
        "from Bio.SeqIO.FastaIO import SimpleFastaParser\n",
        "import matplotlib as mpl\n",
        "import matplotlib.pyplot as plt\n",
        "import networkx as nx\n",
        "import pandas as pd\n",
        "import seaborn as sns\n",
        "from tqdm.notebook import tqdm, trange "
      ]
    },
    {
      "cell_type": "markdown",
      "id": "4",
      "metadata": {
        "tags": []
      },
      "source": [
        "Check the python version"
      ]
    },
    {
      "cell_type": "code",
      "execution_count": null,
      "id": "5",
      "metadata": {
        "tags": []
      },
      "outputs": [],
      "source": [
        "if not (sys.version_info.major == 3 and sys.version_info.minor >= 7):\n",
        "  print('ERROR! This script requires Python 3.7 or higher.')\n",
        "  print(f'You are using Python {sys.version_info.major}.{sys.version_info.minor}')\n",
        "  sys.exit(1)"
      ]
    },
    {
      "cell_type": "markdown",
      "id": "6",
      "metadata": {
        "tags": []
      },
      "source": [
        "### Known locations"
      ]
    },
    {
      "cell_type": "code",
      "execution_count": null,
      "id": "7",
      "metadata": {
        "tags": []
      },
      "outputs": [],
      "source": [
        "USERNAME: str = pwd.getpwuid(os.getuid()).pw_name\n",
        "RELEASE: str = 'nt_wntr25'\n",
        "NTDIR: PosixPath = Path('/dbs_base_path/dbs') / RELEASE\n",
        "CONTOUT: PosixPath = NTDIR / Path('nt_umask.result_conterm_prediction')\n",
        "NTFA: PosixPath = NTDIR / Path('nt_umask.fa')\n",
        "NTFA_DECON: PosixPath = NTDIR / Path('nt_umask_decon.fa')"
      ]
    },
    {
      "cell_type": "markdown",
      "id": "8",
      "metadata": {
        "tags": []
      },
      "source": [
        "### Other constants"
      ]
    },
    {
      "cell_type": "code",
      "execution_count": null,
      "id": "9",
      "metadata": {
        "tags": []
      },
      "outputs": [],
      "source": [
        "#NTNUMSEQ: int = 82792370\n",
        "CONTCOLS: List[str] = [\n",
        "    'NumId', 'CedId', 'CedKdom', 'CedSpp', 'AliIni', 'AliEnd',\n",
        "    'CntgLen', 'CingTopId', 'CingKdom', 'CingSpp', 'CingTopLen', 'NumAli']\n",
        "    \n",
        "KINGDOMS: Dict[int, str] = {0:'BactArch', 1:'Fungi', 2:'Metazoa', 3:'Viridipl', 4:'OtherEuk'}"
      ]
    },
    {
      "cell_type": "markdown",
      "id": "10",
      "metadata": {
        "tags": []
      },
      "source": [
        "Conterminator output key:\n",
        "\n",
        "1. Numeric identifier\n",
        "2. Contaminated identifier\n",
        "3. Kingdom (default: 0: Bacteria&Archaea, 1: Fungi, 2: Metazoa, 3: Viridiplantae, 4: Other Eukaryotes)\n",
        "4. Species name\n",
        "5. Alignment start\n",
        "6. Alignment end\n",
        "7. Corrected contig length (length between flanking Ns)\n",
        "8. Identifier of the longest contaminating sequence\n",
        "9. Kingdom of the longest contaminating sequence\n",
        "10. Species name of the longest contaminating sequence\n",
        "11. Length of the longest contaminating sequence\n",
        "12. Count how often sequences from the contaminating kingdom align "
      ]
    },
    {
      "cell_type": "markdown",
      "id": "11",
      "metadata": {
        "tags": []
      },
      "source": [
        "#### Aumatically get number of sequences —please check nt version is correct!"
      ]
    },
    {
      "cell_type": "code",
      "execution_count": null,
      "id": "12",
      "metadata": {
        "tags": []
      },
      "outputs": [],
      "source": [
        "blastseqline = !/blast_base_path/blast+/c++/ReleaseMT/bin/blastdbcmd -db nt -info | grep \"sequences\"\n",
        "blastdateline = !/blast_base_path/blast+/c++/ReleaseMT/bin/blastdbcmd -db nt -info | grep \"Date:\""
      ]
    },
    {
      "cell_type": "code",
      "execution_count": null,
      "id": "13",
      "metadata": {
        "tags": []
      },
      "outputs": [],
      "source": [
        "NTNUMSEQ: int = int(blastseqline[0].strip().split()[0].replace(',',''))\n",
        "print(f'Num. seq in nt DB is {NTNUMSEQ} from nt version {blastdateline[0]}')"
      ]
    },
    {
      "cell_type": "code",
      "execution_count": null,
      "id": "14",
      "metadata": {
        "tags": []
      },
      "outputs": [],
      "source": [
        "print(f'Cntrmntr output (LUSTRE): {CONTOUT}')"
      ]
    },
    {
      "cell_type": "markdown",
      "id": "15",
      "metadata": {
        "tags": []
      },
      "source": [
        "### Get data"
      ]
    },
    {
      "cell_type": "markdown",
      "id": "16",
      "metadata": {
        "tags": []
      },
      "source": [
        "#### From single output but latest version"
      ]
    },
    {
      "cell_type": "code",
      "execution_count": null,
      "id": "17",
      "metadata": {
        "tags": []
      },
      "outputs": [],
      "source": [
        "%%time\n",
        "cont = pd.read_csv(CONTOUT, sep='\\t', names=CONTCOLS)"
      ]
    },
    {
      "cell_type": "code",
      "execution_count": null,
      "id": "18",
      "metadata": {
        "tags": []
      },
      "outputs": [],
      "source": [
        "%%time\n",
        "cont['CedKdom'].replace(KINGDOMS, inplace=True)\n",
        "cont['CingKdom'].replace(KINGDOMS, inplace=True)"
      ]
    },
    {
      "cell_type": "code",
      "execution_count": null,
      "id": "19",
      "metadata": {
        "tags": []
      },
      "outputs": [],
      "source": [
        "ced_id: Set[str] = set(cont['CedId'])\n",
        "print(f\"Conterminator total entries: {len(cont)}, non-redundant: {len(ced_id)}\")\n",
        "print(f\"Conterminator redundancy rate: {(len(cont)-len(ced_id))/len(cont):.2%}\")\n",
        "print(f\"NT database inter-kingdom contamination rate:  {len(ced_id)/NTNUMSEQ:.3%}\")"
      ]
    },
    {
      "cell_type": "code",
      "execution_count": null,
      "id": "20",
      "metadata": {
        "tags": []
      },
      "outputs": [],
      "source": [
        "plt.figure(figsize=(12,4))\n",
        "sns.set_theme()\n",
        "cont['CedKdom'].value_counts().plot(kind='bar', title='Kingdom of contaminatED sequences');"
      ]
    },
    {
      "cell_type": "code",
      "execution_count": null,
      "id": "21",
      "metadata": {
        "tags": []
      },
      "outputs": [],
      "source": [
        "plt.figure(figsize=(12,4))\n",
        "sns.set_theme(style=\"whitegrid\", palette=\"pastel\")\n",
        "cont['CingKdom'].value_counts().plot(kind='bar', title='Kingdom of contaminatING sequences');"
      ]
    },
    {
      "cell_type": "code",
      "execution_count": null,
      "id": "22",
      "metadata": {
        "tags": []
      },
      "outputs": [],
      "source": [
        "crosscont = cont[['CingKdom', 'CedKdom']].groupby(['CingKdom', 'CedKdom']).size()"
      ]
    },
    {
      "cell_type": "code",
      "execution_count": null,
      "id": "23",
      "metadata": {
        "tags": []
      },
      "outputs": [],
      "source": [
        "mpl.rc_file_defaults()  # Restore mpl defaults after sns.set_theme() changes\n",
        "\n",
        "fig, ax = plt.subplots(figsize=(14,8))\n",
        "\n",
        "ARC_RAD: float = 0.08  # Set arc edges angle \n",
        "NODE_SIZE: int = 12000\n",
        "ARROW_SIZE: int = 20\n",
        "EDGE_NORM_FACTOR: float = 50.0\n",
        "\n",
        "# Create and populate graph\n",
        "G = nx.MultiDiGraph()\n",
        "edge_colors: List[int] = [] \n",
        "for k1 in KINGDOMS.values():\n",
        "    for k2 in KINGDOMS.values():\n",
        "        if k1 is k2:\n",
        "            continue\n",
        "        G.add_edge(str(k1), str(k2), crosscont[k1, k2])\n",
        "        edge_colors.append(crosscont[k1, k2])\n",
        "sum_edges: int = sum(edge_colors)\n",
        "edge_width: List[float] = list(map(lambda e: e/sum_edges*EDGE_NORM_FACTOR, edge_colors))\n",
        "        \n",
        "values = [0, 1, 2, 3, 4]\n",
        "pos = nx.spring_layout(G, seed=1)\n",
        "\n",
        "M = G.number_of_edges()\n",
        "edge_alphas = [(5 + i) / (M + 4) for i in range(M)]\n",
        "cmap = plt.cm.plasma\n",
        "\n",
        "nx.draw_networkx_nodes(G,\n",
        "                       pos,\n",
        "                       node_color = values,\n",
        "                       node_size = NODE_SIZE)\n",
        "\n",
        "label_options = {\"ec\": \"k\", \"fc\": \"white\", \"alpha\": 0.7}\n",
        "nx.draw_networkx_labels(G, pos, font_size=14, bbox=label_options)\n",
        "\n",
        "curved_edges = [edge for edge in G.edges() if tuple(reversed(edge)) in G.edges()]\n",
        "straight_edges = list(set(G.edges()) - set(curved_edges))\n",
        "edges_straight = nx.draw_networkx_edges(G,\n",
        "                                        pos,\n",
        "                                        ax=ax,\n",
        "                                        node_size=NODE_SIZE,\n",
        "                                        arrowstyle=\"-|>\",\n",
        "                                        arrowsize=ARROW_SIZE,\n",
        "                                        edge_color=edge_colors,\n",
        "                                        edge_cmap=cmap,\n",
        "                                        width=edge_width,\n",
        "                                        edgelist=straight_edges)\n",
        "edges_curved = nx.draw_networkx_edges(G,\n",
        "                                      pos,\n",
        "                                      ax=ax,\n",
        "                                      node_size=NODE_SIZE,                       \n",
        "                                      arrowstyle=\"-|>\",\n",
        "                                      arrowsize=ARROW_SIZE,\n",
        "                                      edge_color=edge_colors,\n",
        "                                      edge_cmap=cmap,\n",
        "                                      width=edge_width,\n",
        "                                      edgelist=curved_edges,\n",
        "                                      connectionstyle=f'arc3, rad = {ARC_RAD}')\n",
        "#fig.savefig(\"2.png\", bbox_inches='tight',pad_inches=0)\n",
        "\n",
        "pc = mpl.collections.PatchCollection(edges_straight + edges_curved, cmap=cmap)\n",
        "pc.set_array(edge_colors)\n",
        "clb = plt.colorbar(pc)\n",
        "#clb.ax.tick_params(labelsize=8) \n",
        "clb.ax.set_ylabel('Sequences')\n",
        "\n",
        "# Title/legend\n",
        "font = {\"fontname\": \"DejaVu Sans\", \"color\": \"k\", \"fontweight\": \"bold\", \"fontsize\": 14}\n",
        "ax.set_title(\"NCBI BLAST nt DB inter-kingdom contamination network\", font)\n",
        "\n",
        "# Subtitles\n",
        "ax = plt.gca()\n",
        "font = {\"fontname\": \"DejaVu Sans\", \"color\": \"b\", \"fontweight\": \"bold\", \"fontsize\": 12}\n",
        "ax.text(\n",
        "    0.02, 0.94,\n",
        "    f\"DB version: {RELEASE} ({NTNUMSEQ/1e+6:.2f} Mseqs)\",\n",
        "    horizontalalignment=\"left\",\n",
        "    transform=ax.transAxes,\n",
        "    fontdict=font,\n",
        ")\n",
        "font = {\"fontname\": \"DejaVu Sans\", \"color\": \"purple\", \"fontweight\": \"light\", \"fontsize\": 10}\n",
        "ax.text(\n",
        "    0.02, 0.91,\n",
        "    f\"{len(ced_id)} non-redundant contaminated seqs (rate: {len(ced_id)/NTNUMSEQ:.2%})\",\n",
        "    horizontalalignment=\"left\",\n",
        "    transform=ax.transAxes,\n",
        "    fontdict=font,\n",
        ")\n",
        "ax = plt.gca()\n",
        "font = {\"fontname\": \"DejaVu Sans\", \"color\": \"b\", \"fontweight\": \"light\", \"fontsize\": 10}\n",
        "ax.text(\n",
        "    0.02, 0.88,\n",
        "    \"edge width and color ~ number of seq\",\n",
        "    horizontalalignment=\"left\",\n",
        "    transform=ax.transAxes,\n",
        "    fontdict=font,\n",
        ")\n",
        "\n",
        "# Resize figure for label readibility\n",
        "ax.margins(0.1, 0.1)\n",
        "fig.tight_layout()\n",
        "plt.axis(\"off\")\n",
        "plt.savefig(f'{RELEASE}_contam_profile.pdf')\n",
        "plt.show()"
      ]
    },
    {
      "cell_type": "code",
      "execution_count": null,
      "id": "24",
      "metadata": {
        "tags": []
      },
      "outputs": [],
      "source": [
        "crosscont"
      ]
    },
    {
      "cell_type": "code",
      "execution_count": null,
      "id": "25",
      "metadata": {
        "tags": []
      },
      "outputs": [],
      "source": [
        "%%time\n",
        "MAXREADS: Optional[int] = None\n",
        "cont_ids: Set[str] = set(cont['CedId'])\n",
        "removed: int = 0\n",
        "    \n",
        "with open(NTFA, 'rt') as fa_cont, \\\n",
        "     open(NTFA_DECON, 'wt') as fa_desc:\n",
        "    for i, (title, seq) in tqdm(enumerate(SimpleFastaParser(fa_cont)), total=NTNUMSEQ):\n",
        "        if MAXREADS is not None and i >= MAXREADS:\n",
        "            print('[stopping by maxreads limit!]')\n",
        "            break\n",
        "        cont_id: str = title.split()[0]\n",
        "        try:\n",
        "            cont_ids.remove(cont_id)\n",
        "        except KeyError:\n",
        "            fa_desc.write(f'>{title}\\n')\n",
        "            fa_desc.write(seq + '\\n')\n",
        "        else:\n",
        "            removed += 1\n",
        "\n",
        "print(f\"\\n{removed} contaminated sequences removed\")\n",
        "if cont_ids:\n",
        "    print(f\"Unable to remove {len(cont_ids)} seqs!\")\n",
        "else:\n",
        "    print(f\"Success! All the detected contaminants removed!\")                        "
      ]
    },
    {
      "cell_type": "code",
      "execution_count": null,
      "id": "26",
      "metadata": {
        "tags": []
      },
      "outputs": [],
      "source": []
    }
  ],
  "metadata": {
    "kernelspec": {
      "display_name": "Python 3.10.8",
      "language": "python",
      "name": "py3.10.8"
    },
    "language_info": {
      "codemirror_mode": {
        "name": "ipython",
        "version": 3
      },
      "file_extension": ".py",
      "mimetype": "text/x-python",
      "name": "python",
      "nbconvert_exporter": "python",
      "pygments_lexer": "ipython3",
      "version": "3.10.8"
    },
    "papermill": {
      "default_parameters": {},
      "duration": 18984.218506,
      "end_time": "2025-01-18T15:07:11.778657",
      "environment_variables": {},
      "exception": null,
      "input_path": "./PostConterminator_wntr25.ipynb",
      "output_path": "./PostConterminator_wntr25_out.ipynb",
      "parameters": {},
      "start_time": "2025-01-18T09:50:47.560151",
      "version": "2.4.0"
    }
  },
  "nbformat": 4,
  "nbformat_minor": 5
}
